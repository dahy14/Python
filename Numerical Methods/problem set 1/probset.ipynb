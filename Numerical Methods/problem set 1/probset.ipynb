{
 "cells": [
  {
   "cell_type": "code",
   "execution_count": 3,
   "metadata": {},
   "outputs": [],
   "source": [
    "import numpy as np\n",
    "import scipy as sp \n",
    "import pandas as pd\n",
    "import math\n",
    "\n",
    "from scipy.optimize import newton\n",
    "from scipy.optimize import root_scalar"
   ]
  },
  {
   "cell_type": "code",
   "execution_count": 11,
   "metadata": {},
   "outputs": [
    {
     "name": "stdout",
     "output_type": "stream",
     "text": [
      "    xl    xr     xm  f(xl)   f(xr)    f(xm)     ɛt(%)\n",
      "1  2.5  3.50  3.000  -0.75  5.2500  2.00000  13.38940\n",
      "2  2.5  3.00  2.750  -0.75  2.0000  0.56250   3.94028\n",
      "3  2.5  2.75  2.625  -0.75  0.5625 -0.10938   0.78428\n"
     ]
    }
   ],
   "source": [
    "# number 2 \n",
    "def given_func2(x):\n",
    "    return  x**2 - 7\n",
    "\n",
    "def bisection(func, xl, xr, tol):\n",
    "    df = pd.DataFrame(columns=['xl', 'xr', 'xm','f(xl)', 'f(xr)', 'f(xm)', 'ɛt(%)'])\n",
    "    i = int(1) \n",
    "    while True: \n",
    "        # get the values for the table\n",
    "        xm = (xl+xr)/2\n",
    "        f_xl = func(xl)\n",
    "        f_xr = func(xr)\n",
    "        f_xm = func(xm)\n",
    "        \n",
    "\n",
    "        ɛt = abs((2.64575-xm)/2.64575)*100\n",
    "        \n",
    "        # round to 5 decimal\n",
    "        non_rounded = [xl, xr, xm, f_xl, f_xr, f_xm, ɛt]\n",
    "        rounded = [round(num, 5) for num in non_rounded]\n",
    "        # append to the table\n",
    "        df.loc[i] = rounded\n",
    "\n",
    "        # decide to use xm as xl or xr in next iter\n",
    "        if f_xl*f_xm < 0:\n",
    "            xr = xm \n",
    "        elif f_xl*f_xm > 0: \n",
    "            xl = xm \n",
    "        i+=1\n",
    "\n",
    "        if ɛt < tol: \n",
    "            break\n",
    "    return df\n",
    "\n",
    "# call the function\n",
    "table = bisection(given_func2, xl = 2.5, xr = 3.5, tol = 1)\n",
    "print(table)"
   ]
  },
  {
   "cell_type": "code",
   "execution_count": 39,
   "metadata": {},
   "outputs": [
    {
     "name": "stdout",
     "output_type": "stream",
     "text": [
      "        xl   xr       xn     f(xl)  f(xr)    f(xn)      ɛs(%)\n",
      "1  3.00000  6.0  4.55556 -14.00000   13.0 -2.24691  100.00000\n",
      "2  4.55556  6.0  4.76842  -2.24691   13.0 -0.26216    4.46407\n"
     ]
    }
   ],
   "source": [
    "# number 3\n",
    "def false_position(func, xl, xr, tol):\n",
    "    df = pd.DataFrame(columns=['xl', 'xr', 'xn','f(xl)', 'f(xr)', 'f(xn)', 'ɛs(%)'])\n",
    "    i = int(1) \n",
    "    while True: \n",
    "        # get the values for the table\n",
    "        f_xl = func(xl)\n",
    "        f_xr = func(xr)\n",
    "        \n",
    "        xn = (xr*f_xl - xl*f_xr)/(f_xl - f_xr)\n",
    "        f_xn = func(xn)\n",
    "        \n",
    "        if i == 1: \n",
    "            ɛs = 100\n",
    "        else: \n",
    "            ɛs = abs((xn-xn_old)/xn)*100\n",
    "        \n",
    "        # round to 5 decimal\n",
    "        non_rounded = [xl, xr, xn, f_xl, f_xr, f_xn, ɛs]\n",
    "        rounded = [round(num, 5) for num in non_rounded]\n",
    "        df.loc[i] = rounded\n",
    "\n",
    "        # decide to use xn as xl or xr in next iter\n",
    "        if f_xl*f_xn < 0:\n",
    "            xr = xn \n",
    "        elif f_xl*f_xn > 0: \n",
    "            xl = xn \n",
    "        i+=1\n",
    "        xn_old = xn\n",
    "        if ɛs < tol: \n",
    "            break\n",
    "    return df\n",
    "\n",
    "# call the function\n",
    "table = false_position(lambda x:x**2 - 23, xl = 3, xr = 6, tol = 5)\n",
    "print(table)"
   ]
  },
  {
   "cell_type": "code",
   "execution_count": 35,
   "metadata": {},
   "outputs": [
    {
     "name": "stdout",
     "output_type": "stream",
     "text": [
      "root1 \n",
      "      x     f(x)      ɛs(%)\n",
      "1 -5.0 -3.90000  100.00000\n",
      "2 -3.9 -4.15385    6.11111\n",
      "root2 \n",
      "          x     f(x)      ɛs(%)\n",
      "1  2.00000  0.90000  100.00000\n",
      "2  0.90000  1.15385   22.00000\n",
      "3  1.15385  1.08333    6.50888\n"
     ]
    }
   ],
   "source": [
    "# number 4 \n",
    "def given_func4(x):\n",
    "    return 2*x**2 + 6*x -9 \n",
    "\n",
    "# fixed point equations \n",
    "# needs to be done for different functions\n",
    "def fixed_point(func, x, tol):\n",
    "    df = pd.DataFrame(columns=['x', 'f(x)', 'ɛs(%)'])\n",
    "    i = int(1)\n",
    "    xa = x\n",
    "    while True:    \n",
    "        \n",
    "        f_x = func(xa)\n",
    "        \n",
    "        if i == 1: \n",
    "            ɛs = 100\n",
    "        else: \n",
    "            ɛs = abs((f_x-f_x_old)/f_x)*100\n",
    "        \n",
    "        # round to 5 decimal \n",
    "        non_rounded = [xa, f_x, ɛs]\n",
    "        rounded = [round(num, 5) for num in non_rounded]\n",
    "        # [xa, f_x, ɛs] = rounded\n",
    "        df.loc[i] = rounded\n",
    "        \n",
    "        f_x_old = f_x\n",
    "        xa = f_x\n",
    "        i+=1\n",
    "        if ɛs < tol: \n",
    "            break  \n",
    "    return df   \n",
    "\n",
    "\n",
    "root1 = fixed_point(lambda x: (4.5/x - 3), x = -5, tol = 10)\n",
    "root2 = fixed_point(lambda x : (4.5/(x + 3)), x = 2, tol = 10)\n",
    "print(\"root1 \\n\", root1)\n",
    "print(\"root2 \\n\", root2)"
   ]
  },
  {
   "cell_type": "code",
   "execution_count": 30,
   "metadata": {},
   "outputs": [
    {
     "name": "stdout",
     "output_type": "stream",
     "text": [
      "root1 \n",
      "          x     f(x)    f'(x)      ɛs(%)\n",
      "1 -2.00000  5.00000 -9.00000  100.00000\n",
      "2 -1.44444  0.30864 -7.88889   38.46154\n",
      "3 -1.40532  0.00153 -7.81064    2.78396\n",
      "root2 \n",
      "          x     f(x)    f'(x)      ɛs(%)\n",
      "1  7.00000  5.00000  9.00000  100.00000\n",
      "2  6.44444  0.30864  7.88889    8.62069\n"
     ]
    }
   ],
   "source": [
    "# number 5 \n",
    "\n",
    "def given_func5(x):\n",
    "    return x**2 -5*x -9\n",
    "def deriv_func5(x):\n",
    "    return 2*x -5\n",
    "\n",
    "def newton_rapson(func, deriv_func, x, tol):\n",
    "    df = pd.DataFrame(columns=['x', 'f(x)', \"f'(x)\", 'ɛs(%)'])\n",
    "    i = int(1)\n",
    "    xa = x\n",
    "    while True:    \n",
    "        f_x = func(xa)\n",
    "        fprime_x = deriv_func(xa)\n",
    "        if i == 1: \n",
    "            ɛs = 100\n",
    "        else: \n",
    "            ɛs = abs((xa-xa_old)/xa)*100\n",
    "        \n",
    "        # round to 5 decimal \n",
    "        non_rounded = [xa, f_x, fprime_x, ɛs]\n",
    "        rounded = [round(num, 5) for num in non_rounded]\n",
    "        # [xa, f_x, ɛs] = rounded\n",
    "        df.loc[i] = rounded\n",
    "        \n",
    "        xa_old = xa\n",
    "        xa = xa - f_x/deriv_func(xa)\n",
    "        i+=1\n",
    "        if ɛs < tol: \n",
    "            break  \n",
    "    return df\n",
    "\n",
    "root1 = newton_rapson(given_func5, deriv_func5, x = -2, tol = 10)\n",
    "root2 = newton_rapson(given_func5, deriv_func5, x = 7, tol = 10)\n",
    "\n",
    "print(\"root1 \\n\", root1)\n",
    "print(\"root2 \\n\", root2)"
   ]
  },
  {
   "cell_type": "code",
   "execution_count": 36,
   "metadata": {},
   "outputs": [
    {
     "name": "stdout",
     "output_type": "stream",
     "text": [
      "root1 \n",
      "         xa       xb      f_xa      f_xb      ɛs(%)\n",
      "1 -1.50000  1.50000 -11.25000  -5.25000  100.00000\n",
      "2  1.50000  4.12500  -5.25000 -73.82812   63.63636\n",
      "3  4.12500  1.29904 -73.82812  -2.83948  217.54144\n",
      "4  1.29904  1.18601  -2.83948  -1.66105    9.53077\n",
      "5  1.18601  1.02668  -1.66105  -0.21698   15.51897\n",
      "6  1.02668  1.00274  -0.21698  -0.02194    2.38748\n",
      "7  1.00274  1.00004  -0.02194  -0.00036    0.26926\n",
      "root2 \n",
      "         xa       xb     f_xa     f_xb      ɛs(%)\n",
      "1 -0.75000 -0.50000 -1.31250  0.75000  100.00000\n",
      "2 -0.50000 -0.59091  0.75000  0.07231   15.38462\n",
      "3 -0.59091 -0.60061  0.07231 -0.00488    1.61514\n",
      "4 -0.60061 -0.60000 -0.00488  0.00003    0.10221\n"
     ]
    }
   ],
   "source": [
    "# number 6\n",
    "def given_func6(x):\n",
    "    return -5*x**2 + 2*x + 3 \n",
    "\n",
    "def secant(func, xa, xb, tol):\n",
    "    df = pd.DataFrame(columns=['xa', 'xb', 'f_xa', 'f_xb', 'ɛs(%)'])\n",
    "    i = int(1)\n",
    "    while True:\n",
    "        f_xa = func(xa)\n",
    "        f_xb = func(xb)\n",
    "        if i == 1:\n",
    "            ɛs = 100\n",
    "        else:\n",
    "            ɛs = abs((xb-xa)/xb)*100\n",
    "        \n",
    "        # round to 5 decimal\n",
    "        non_rounded = [xa, xb, f_xa, f_xb, ɛs]\n",
    "        rounded = [round(num, 5) for num in non_rounded]\n",
    "        df.loc[i] = rounded\n",
    "\n",
    "        xnew = xb\n",
    "        xb = xa - (f_xa * (xa-xb)) / (f_xa - f_xb)\n",
    "        xa = xnew\n",
    "\n",
    "        i+=1\n",
    "        if ɛs < tol:\n",
    "            break\n",
    "    return df\n",
    "\n",
    "root1 = secant(given_func6, xa = -1.5, xb = 1.5, tol = 1)\n",
    "root2 = secant(given_func6, xa = -.75, xb = -.5, tol = 1)\n",
    "\n",
    "print(\"root1 \\n\", root1)\n",
    "print(\"root2 \\n\", root2)"
   ]
  }
 ],
 "metadata": {
  "kernelspec": {
   "display_name": "Python 3 (ipykernel)",
   "language": "python",
   "name": "python3"
  },
  "language_info": {
   "codemirror_mode": {
    "name": "ipython",
    "version": 3
   },
   "file_extension": ".py",
   "mimetype": "text/x-python",
   "name": "python",
   "nbconvert_exporter": "python",
   "pygments_lexer": "ipython3",
   "version": "3.9.13"
  },
  "orig_nbformat": 4
 },
 "nbformat": 4,
 "nbformat_minor": 2
}
